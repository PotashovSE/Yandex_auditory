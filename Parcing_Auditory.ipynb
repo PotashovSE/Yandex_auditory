{
 "cells": [
  {
   "cell_type": "code",
   "execution_count": 33,
   "id": "a142da1e",
   "metadata": {},
   "outputs": [],
   "source": [
    "from selenium import webdriver\n",
    "from selenium.webdriver.common.keys import Keys\n",
    "from selenium.webdriver.common.by import By\n",
    "from selenium.webdriver.common.action_chains import ActionChains\n",
    "from selenium.webdriver.support.ui import WebDriverWait\n",
    "from selenium.webdriver.support import expected_conditions as EC\n",
    "import pandas as pd\n",
    "import re\n",
    "import os\n",
    "from dotenv import load_dotenv"
   ]
  },
  {
   "cell_type": "code",
   "execution_count": 53,
   "id": "8e7576b6-ae64-4e61-b193-d5269ecc6b40",
   "metadata": {},
   "outputs": [],
   "source": [
    "def convertion_to_table(mans_womens, interes_and_category):\n",
    "    text = mans_womens + interes_and_category\n",
    "    dirty_data = pd.DataFrame({text.split('\\n')[0]:text.split('\\n')[1:]}) #Создаем датафрейм из поступающего текста\n",
    "    \n",
    "    dirty_data = pd.concat([dirty_data.loc[3:6], dirty_data.loc[27:46], dirty_data.loc[48:67]]) #Удаляем ненужные строки (они фиксированы)\n",
    "\n",
    "    #Разделяем таблицу на проценты и категории\n",
    "    percent = dirty_data[dirty_data[dirty_data.columns[0]].str.contains('%')]\n",
    "    \n",
    "    \n",
    "    category = dirty_data[~dirty_data[dirty_data.columns[0]].str.contains('%')]\n",
    "    category.rename(columns={category.columns[0]: ''}, inplace=True)\n",
    "\n",
    "    #Создаем очищенную таблицу\n",
    "    clear_data = percent.set_index(category[''])\n",
    "    clear_data = clear_data.applymap(lambda x: re.sub(r'\\s+', ' ', x).replace(' ',''))\n",
    "    \n",
    "    return clear_data.T.reset_index(names='')"
   ]
  },
  {
   "cell_type": "code",
   "execution_count": 54,
   "id": "fb97d107-6e7a-4219-a3cc-2fa56aed5f9f",
   "metadata": {},
   "outputs": [],
   "source": [
    "def read_login_password(login='login', password='password'):\n",
    "    load_dotenv()\n",
    "    return os.getenv(login), os.getenv(password)\n"
   ]
  },
  {
   "cell_type": "markdown",
   "id": "68c6f5d4-b170-44f4-bd6e-cc121a539e18",
   "metadata": {},
   "source": [
    "# Работа с сайтом"
   ]
  },
  {
   "cell_type": "code",
   "execution_count": 9,
   "id": "c65ec8d6",
   "metadata": {},
   "outputs": [],
   "source": [
    "driver = webdriver.Chrome()"
   ]
  },
  {
   "cell_type": "code",
   "execution_count": 10,
   "id": "57720911",
   "metadata": {},
   "outputs": [],
   "source": [
    "driver.get(\"https://audience.yandex.ru\")\n",
    "button = driver.find_element(By.CLASS_NAME, 'button2__text') #Поиск кнопки ВОЙТИ\n"
   ]
  },
  {
   "cell_type": "code",
   "execution_count": 11,
   "id": "0044fc28-c776-4ebb-8290-fad4fea6d3d7",
   "metadata": {},
   "outputs": [],
   "source": [
    "driver.implicitly_wait(10)\n",
    "ActionChains(driver).move_to_element(button).click(button).perform() #Нажатие на кнопку ВОЙТИ"
   ]
  },
  {
   "cell_type": "code",
   "execution_count": 12,
   "id": "fb079dba-fe53-460f-bc2d-efab4e8b3d3d",
   "metadata": {},
   "outputs": [],
   "source": [
    "login, password = read_login_password('login','password') #Читаем логин и пароль из скрытого файла"
   ]
  },
  {
   "cell_type": "code",
   "execution_count": 13,
   "id": "3718d8ed",
   "metadata": {},
   "outputs": [],
   "source": [
    "login_element = driver.find_element(By.CSS_SELECTOR, \"input[placeholder='Логин или email']\") # Находим поле ввода Логина\n",
    "\n",
    "\"\"\"Через команду clear() не удалось очистить поле, т.к. присваивается некое значение value\n",
    "    и счетчик обновить не получается. Пока использую костыль с ctrl+A и Backspace\"\"\"\n",
    "login_element.send_keys(Keys.CONTROL,'A')\n",
    "login_element.send_keys(Keys.BACK_SPACE)\n",
    "\n",
    "login_element.send_keys(login)"
   ]
  },
  {
   "cell_type": "code",
   "execution_count": 14,
   "id": "cdb53c71",
   "metadata": {},
   "outputs": [],
   "source": [
    "\"\"\"Нажимаем снова на кнопку войти, что бы перейти к вводу пароля\"\"\"\n",
    "button_2 = driver.find_element(By.CSS_SELECTOR, \"button[type='submit']\") #Поиск кнопки ВОЙТИ\n",
    "driver.implicitly_wait(10)\n",
    "ActionChains(driver).move_to_element(button_2).click(button_2).perform() #Нажатие на кнопку ВОЙТИ"
   ]
  },
  {
   "cell_type": "code",
   "execution_count": 15,
   "id": "cb2e1933",
   "metadata": {},
   "outputs": [],
   "source": [
    "\"\"\"Вводим пароль\"\"\"\n",
    "password_element = driver.find_element(By.CSS_SELECTOR, \"input[name='passwd']\") # Находим поле ввода Логина\n",
    "\n",
    "password_element.send_keys(Keys.CONTROL,'A')\n",
    "password_element.send_keys(Keys.BACK_SPACE)\n",
    "\n",
    "password_element.send_keys(password)"
   ]
  },
  {
   "cell_type": "code",
   "execution_count": 16,
   "id": "0d78bada",
   "metadata": {},
   "outputs": [],
   "source": [
    "\"\"\"Нажимаем снова на кнопку войти, что бы наконец войти\"\"\"\n",
    "button_3 = driver.find_element(By.CSS_SELECTOR, \"button[type='submit']\") #Поиск кнопки ВОЙТИ\n",
    "driver.implicitly_wait(10)\n",
    "ActionChains(driver).move_to_element(button_3).click(button_3).perform() #Нажатие на кнопку ВОЙТИ"
   ]
  },
  {
   "cell_type": "code",
   "execution_count": 21,
   "id": "e98ea56f-15c2-4705-b306-23fcb0efa63c",
   "metadata": {},
   "outputs": [
    {
     "data": {
      "text/plain": [
       "2"
      ]
     },
     "execution_count": 21,
     "metadata": {},
     "output_type": "execute_result"
    }
   ],
   "source": [
    "#### \"\"\"Ищем список из кнопок со статистиками\"\"\"\n",
    "statistick_button = driver.find_elements(\n",
    "    By.CSS_SELECTOR, \n",
    "    \"span[class='icon__bars audience-segment-row__stats-button audience-segment-row__stats-button_type_uploading audience-segment-row__stats-button_hint_no icon']\"\n",
    "    )\n",
    "\n",
    "len(statistick_button)"
   ]
  },
  {
   "cell_type": "code",
   "execution_count": 60,
   "id": "66dae424",
   "metadata": {},
   "outputs": [
    {
     "ename": "SyntaxError",
     "evalue": "f-string expression part cannot include a backslash (4220996619.py, line 14)",
     "output_type": "error",
     "traceback": [
      "\u001b[1;36m  Cell \u001b[1;32mIn[60], line 14\u001b[1;36m\u001b[0m\n\u001b[1;33m    window.screenshot(f\"screenshots_mans_womens//{window.text.split('\\n')[0]}.png\") #Сохранение скриншота окна в папку\u001b[0m\n\u001b[1;37m                                                                                  ^\u001b[0m\n\u001b[1;31mSyntaxError\u001b[0m\u001b[1;31m:\u001b[0m f-string expression part cannot include a backslash\n"
     ]
    }
   ],
   "source": [
    "\"\"\"Цикл, который будет проходиться по каждой кнопке, внутри делать скриншоты и сохранять их\"\"\"\n",
    "def parcing(first_button=0, last_button=None):\n",
    "\n",
    "    slicer_statistick_button = statistick_button[first_button:last_button]\n",
    "    \n",
    "    for stat_button in slicer_statistick_button:\n",
    "        stat_button.click() #открытие окна со статистикой\n",
    "        \n",
    "        window = driver.find_element(\n",
    "            By.CSS_SELECTOR, \n",
    "            \"div[class='audience-segment-statistics audience-segment-statistics_state_ready error-message error-message_type_above i-bem audience-segment-statistics_js_inited']\"\n",
    "            ) #Поиск всего открывшегося окна\n",
    "        \n",
    "        window.screenshot(f\"screenshots_mans_womens//{window.text.split('\\n')[0]}.png\") #Сохранение скриншота окна в папку\n",
    "        mans_womans_stat = window.text #Парсим данные по статистике женщин мужчин с окна\n",
    "        \n",
    "        interess_and_category_button = driver.find_element(\n",
    "            By.ID, \n",
    "            \"stat-tabs-tab-2\"\n",
    "            ) #Поиск кнопки Интересы и категории\n",
    "        \n",
    "        interess_and_category_button.click()\n",
    "        \n",
    "        window = driver.find_element(\n",
    "            By.CSS_SELECTOR, \n",
    "            \"div[class='audience-segment-statistics audience-segment-statistics_state_ready error-message error-message_type_above i-bem audience-segment-statistics_js_inited']\"\n",
    "                ) #Поиск окна (хз почему старое не подходит, но надо заново найти окно)\n",
    "\n",
    "        window.screenshot(f\"screenshots_interes//{window.text.split('\\n')[0]}.png\") #Сохранение скриншота окна в папку\n",
    "        interes_and_category_text = window.text\n",
    "        \n",
    "        if stat_button == slicer_statistick_button[0]:\n",
    "            table = convertion_to_table(mans_womans_stat, interes_and_category_text)\n",
    "        else:\n",
    "            merged_table = convertion_to_table(mans_womans_stat, interes_and_category_text)\n",
    "            table = table.merge(merged_table, how='outer')\n",
    "    \n",
    "        #Закрытие окна после всех действий\n",
    "        driver.find_elements(\n",
    "            By.CSS_SELECTOR, \n",
    "            \"span[class='icon__close icon__close_new_yes audience-segment-statistics__close icon']\")[0].click()\n",
    "    return table"
   ]
  },
  {
   "cell_type": "code",
   "execution_count": 91,
   "id": "472e187a-34f1-4eec-8c67-189652ccff2e",
   "metadata": {},
   "outputs": [],
   "source": [
    "driver.quit()"
   ]
  },
  {
   "cell_type": "code",
   "execution_count": null,
   "id": "4fd85dc3",
   "metadata": {},
   "outputs": [],
   "source": []
  },
  {
   "cell_type": "code",
   "execution_count": null,
   "id": "fc5b956f-cbe6-4196-a918-d0aacd94fa6b",
   "metadata": {},
   "outputs": [],
   "source": []
  }
 ],
 "metadata": {
  "kernelspec": {
   "display_name": "Python 3 (ipykernel)",
   "language": "python",
   "name": "python3"
  },
  "language_info": {
   "codemirror_mode": {
    "name": "ipython",
    "version": 3
   },
   "file_extension": ".py",
   "mimetype": "text/x-python",
   "name": "python",
   "nbconvert_exporter": "python",
   "pygments_lexer": "ipython3",
   "version": "3.9.13"
  }
 },
 "nbformat": 4,
 "nbformat_minor": 5
}
