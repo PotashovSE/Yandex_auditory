{
 "cells": [
  {
   "cell_type": "code",
   "execution_count": 218,
   "id": "a142da1e",
   "metadata": {},
   "outputs": [],
   "source": [
    "from selenium import webdriver\n",
    "from selenium.webdriver.common.keys import Keys\n",
    "from selenium.webdriver.common.by import By\n",
    "from selenium.webdriver.common.action_chains import ActionChains\n",
    "from selenium.webdriver.support.ui import WebDriverWait\n",
    "from selenium.webdriver.support import expected_conditions as EC\n",
    "import pandas as pd\n",
    "import re\n",
    "import os\n",
    "from dotenv import load_dotenv\n",
    "import gspread\n",
    "import numpy as np\n",
    "import string\n",
    "import keyboard"
   ]
  },
  {
   "cell_type": "code",
   "execution_count": 239,
   "id": "8e7576b6-ae64-4e61-b193-d5269ecc6b40",
   "metadata": {},
   "outputs": [],
   "source": [
    "def convertion_to_table(mans_womens, interes_and_category):\n",
    "    text = mans_womens + interes_and_category\n",
    "    dirty_data = pd.DataFrame({text.split('\\n')[0]:text.split('\\n')[1:]}) #Создаем датафрейм из поступающего текста\n",
    "\n",
    "    dirty_data = pd.concat([dirty_data.loc[1:16], dirty_data.loc[25:44], dirty_data.loc[46:65]]) #Удаляем ненужные строки (они фиксированы)\n",
    "\n",
    "    #Разделяем таблицу на проценты и категории\n",
    "    percent = dirty_data[dirty_data[dirty_data.columns[0]].str.contains('%')]\n",
    "    percent = percent.rename(columns={percent.columns[0]: percent.columns[0][13:-1]})\n",
    "    \n",
    "    category = dirty_data[~dirty_data[dirty_data.columns[0]].str.contains('%')]\n",
    "    category = category.rename(columns={category.columns[0]: ''})\n",
    "    \n",
    "    #Создаем очищенную таблицу\n",
    "    clear_data = percent.set_index(category[''])\n",
    "    clear_data = clear_data.apply(lambda col: col.map(lambda x: re.sub(r'\\s+', ' ', x).replace(' ', '')))\n",
    "    \n",
    "    return clear_data.T.reset_index(names='')\n",
    "\n",
    "\n",
    "def read_login_password(login='login', password='password'):\n",
    "    load_dotenv()\n",
    "    return os.getenv(login), os.getenv(password)"
   ]
  },
  {
   "cell_type": "markdown",
   "id": "68c6f5d4-b170-44f4-bd6e-cc121a539e18",
   "metadata": {},
   "source": [
    "# Работа с сайтом"
   ]
  },
  {
   "cell_type": "code",
   "execution_count": 220,
   "id": "c65ec8d6",
   "metadata": {},
   "outputs": [
    {
     "name": "stderr",
     "output_type": "stream",
     "text": [
      "The chromedriver version (126.0.6478.63) detected in PATH at C:\\ProgramData\\chocolatey\\bin\\chromedriver.exe might not be compatible with the detected chrome version (127.0.6533.119); currently, chromedriver 127.0.6533.119 is recommended for chrome 127.*, so it is advised to delete the driver in PATH and retry\n"
     ]
    }
   ],
   "source": [
    "driver = webdriver.Chrome()"
   ]
  },
  {
   "cell_type": "code",
   "execution_count": 221,
   "id": "57720911",
   "metadata": {},
   "outputs": [],
   "source": [
    "driver.get(\"https://audience.yandex.ru\")\n",
    "button = driver.find_element(By.CLASS_NAME, 'button2__text') #Поиск кнопки ВОЙТИ\n",
    "driver.implicitly_wait(10)\n",
    "ActionChains(driver).move_to_element(button).click(button).perform() #Нажатие на кнопку ВОЙТИ"
   ]
  },
  {
   "cell_type": "code",
   "execution_count": 222,
   "id": "3718d8ed",
   "metadata": {},
   "outputs": [],
   "source": [
    "login, password = read_login_password('login','password') #Читаем логин и пароль из скрытого файла\n",
    "\n",
    "login_element = driver.find_element(By.CSS_SELECTOR, \"input[placeholder='Логин или email']\") # Находим поле ввода Логина\n",
    "\n",
    "\"\"\"Через команду clear() не удалось очистить поле, т.к. присваивается некое значение value\n",
    "    и счетчик обновить не получается. Пока использую костыль с ctrl+A и Backspace\"\"\"\n",
    "login_element.send_keys(Keys.CONTROL,'A')\n",
    "login_element.send_keys(Keys.BACK_SPACE)\n",
    "\n",
    "login_element.send_keys(login)\n",
    "\n",
    "\"\"\"Нажимаем снова на кнопку войти, что бы перейти к вводу пароля\"\"\"\n",
    "button_2 = driver.find_element(By.CSS_SELECTOR, \"button[type='submit']\") #Поиск кнопки ВОЙТИ\n",
    "driver.implicitly_wait(10)\n",
    "ActionChains(driver).move_to_element(button_2).click(button_2).perform() #Нажатие на кнопку ВОЙТИ"
   ]
  },
  {
   "cell_type": "code",
   "execution_count": 223,
   "id": "cb2e1933",
   "metadata": {},
   "outputs": [],
   "source": [
    "\"\"\"Вводим пароль\"\"\"\n",
    "password_element = driver.find_element(By.CSS_SELECTOR, \"input[name='passwd']\") # Находим поле ввода Логина\n",
    "\n",
    "password_element.send_keys(Keys.CONTROL,'A')\n",
    "password_element.send_keys(Keys.BACK_SPACE)\n",
    "\n",
    "password_element.send_keys(password)\n",
    "\n",
    "\"\"\"Нажимаем снова на кнопку войти, что бы наконец войти\"\"\"\n",
    "button_3 = driver.find_element(By.CSS_SELECTOR, \"button[type='submit']\") #Поиск кнопки ВОЙТИ\n",
    "driver.implicitly_wait(10)\n",
    "ActionChains(driver).move_to_element(button_3).click(button_3).perform() #Нажатие на кнопку ВОЙТИ"
   ]
  },
  {
   "cell_type": "code",
   "execution_count": 224,
   "id": "72eaf601-3f72-4a0b-bc6c-5845ee4b42d1",
   "metadata": {},
   "outputs": [],
   "source": [
    "\"\"\"Автоматическое закрытие всплывающего окна в правом неижнем углу про CRM\"\"\"\n",
    "try:\n",
    "    CRM_segments_window = driver.find_element(By.CSS_SELECTOR, \"div[class='crm-data-announcement i-bem crm-data-announcement_js_inited crm-data-announcement_shown_yes']\")\n",
    "    CRM_window_close_button = driver.find_element(By.CSS_SELECTOR, \"span[class='icon__close icon__close_type_light crm-data-announcement__close icon']\")\n",
    "    CRM_window_close_button.click()\n",
    "\n",
    "except:\n",
    "    print('CRM Окно не всплывало, продолжай кликать дальше')"
   ]
  },
  {
   "cell_type": "code",
   "execution_count": 225,
   "id": "e98ea56f-15c2-4705-b306-23fcb0efa63c",
   "metadata": {},
   "outputs": [
    {
     "name": "stdout",
     "output_type": "stream",
     "text": [
      "На странице отображено 30 записей\n"
     ]
    }
   ],
   "source": [
    "\"\"\"Ищем список из кнопок со статистиками\"\"\"\n",
    "# СЛЕДИТЬ ЗА ДЛИНОЙ СПИСКА КНОПОК, ЕСЛИ НАДО ЗАПАРСИТЬ > 30 ЗАПИСЕЙ, ТО ВРУЧНУЮ НА САЙТЕ ВНИЗУ НАЖИМАТЬ \"Показать еще\", \n",
    "# ПОКА ДЛИНА СПИСКА НЕ БУДЕТ БОЛЬШЕ ВАШЕГО ЗАПРОСА НА ПАРСИНГ\n",
    "# А так же закрывать все всплывающие окошки на сайте\n",
    "\n",
    "statistick_buttons = driver.find_elements(\n",
    "    By.CSS_SELECTOR, \n",
    "    \"span[class='icon__bars audience-segment-row__stats-button audience-segment-row__stats-button_type_uploading audience-segment-row__stats-button_hint_no icon']\"\n",
    "    )\n",
    "print(f'На странице отображено {len(statistick_button)} записей')"
   ]
  },
  {
   "cell_type": "code",
   "execution_count": 226,
   "id": "66dae424",
   "metadata": {},
   "outputs": [],
   "source": [
    "\"\"\"Цикл, который будет проходиться по каждой кнопке, внутри делать скриншоты и сохранять их\"\"\"\n",
    "def parcing(num_of_first_button=0, num_of_last_button=None, statistick_buttons = statistick_buttons):\n",
    "\n",
    "    while len(statistick_buttons) <= num_of_last_button:\n",
    "        show_more_button = driver.find_element(\n",
    "                                By.CSS_SELECTOR, \n",
    "                                \"div[class='audience-segments-table__show-more']\"\n",
    "                                )\n",
    "        show_more_button.click()\n",
    "        \n",
    "        statistick_buttons = driver.find_elements(\n",
    "                                By.CSS_SELECTOR, \n",
    "                                \"span[class='icon__bars audience-segment-row__stats-button audience-segment-row__stats-button_type_uploading audience-segment-row__stats-button_hint_no icon']\"\n",
    "                                )\n",
    "        print(f'Сейчас на странице отображены {len(statistick_buttons)} записей')\n",
    "\n",
    "    print('Теперь начнем парсить')\n",
    "    \n",
    "    slicer_statistick_buttons = statistick_buttons[num_of_first_button:num_of_last_button]\n",
    "    \n",
    "    for stat_button in slicer_statistick_buttons:\n",
    "        stat_button.click() #открытие окна со статистикой\n",
    "        \n",
    "        window = driver.find_element(\n",
    "            By.CSS_SELECTOR, \n",
    "            \"div[class='audience-segment-statistics audience-segment-statistics_state_ready error-message error-message_type_above i-bem audience-segment-statistics_js_inited']\"\n",
    "            ) #Поиск всего открывшегося окна\n",
    "\n",
    "        ohvat = driver.find_element(\n",
    "            By.CSS_SELECTOR, \n",
    "            \"div[class='audience-stats-widget-amount__wrapper']\"\n",
    "            ).text.split(\"\\n\")\n",
    "        ohvat = re.sub(r'\\s+', ' ',ohvat[0]).replace(' ','')\n",
    "        \n",
    "        element = driver.find_element(By.CSS_SELECTOR, \"div[class='audience-stats-widget-amount__wrapper']\")\n",
    "        driver.execute_script(\"arguments[0].parentNode.removeChild(arguments[0]);\", element) #Удаление ненужной статистики (Охват)\n",
    "        \n",
    "        window.screenshot(f'screenshots_mans_womens//{window.text.split('\\n')[0]}.png') #Сохранение скриншота окна в папку\n",
    "        mans_womans_stat = window.text #Парсим данные по статистике женщин мужчин с окна\n",
    "        \n",
    "        interess_and_category_button = driver.find_element(\n",
    "            By.ID, \n",
    "            \"stat-tabs-tab-2\"\n",
    "            ) #Поиск кнопки Интересы и категории\n",
    "        \n",
    "        interess_and_category_button.click()\n",
    "        \n",
    "        window = driver.find_element(\n",
    "            By.CSS_SELECTOR, \n",
    "            \"div[class='audience-segment-statistics audience-segment-statistics_state_ready error-message error-message_type_above i-bem audience-segment-statistics_js_inited']\"\n",
    "                ) #Поиск окна (хз почему старое не подходит, но надо заново найти окно)\n",
    "\n",
    "        window.screenshot(f'screenshots_interes//{window.text.split('\\n')[0]}.png') #Сохранение скриншота окна в папку\n",
    "        interes_and_category_text = window.text\n",
    "        \n",
    "        if stat_button == slicer_statistick_buttons[0]:\n",
    "            table = convertion_to_table(mans_womans_stat, interes_and_category_text)\n",
    "            table['Охват']=ohvat\n",
    "        else:\n",
    "            merged_table = convertion_to_table(mans_womans_stat, interes_and_category_text)\n",
    "            merged_table['Охват']=ohvat\n",
    "            table = table.merge(merged_table, how='outer')\n",
    "        \n",
    "        #Закрытие окна после всех действий\n",
    "        driver.find_elements(\n",
    "            By.CSS_SELECTOR, \n",
    "            \"span[class='icon__close icon__close_new_yes audience-segment-statistics__close icon']\")[0].click()\n",
    "    return table"
   ]
  },
  {
   "cell_type": "code",
   "execution_count": 240,
   "id": "f0af08e3-844b-4b01-95c1-070fa9ba2080",
   "metadata": {
    "scrolled": true
   },
   "outputs": [
    {
     "name": "stdin",
     "output_type": "stream",
     "text": [
      "Введите номер записи, с которой хотите начать парсинг:  1\n",
      "Введите номер записи, на которой хотите остановиться:  10\n"
     ]
    },
    {
     "name": "stdout",
     "output_type": "stream",
     "text": [
      "Теперь начнем парсить\n"
     ]
    }
   ],
   "source": [
    "num_of_first_button = int(input('Введите номер записи, с которой хотите начать парсинг: '))\n",
    "num_of_last_button = int(input('Введите номер записи, на которой хотите остановиться: '))\n",
    "table = parcing(num_of_first_button, num_of_last_button)"
   ]
  },
  {
   "cell_type": "code",
   "execution_count": 214,
   "id": "32258738-477a-4b72-bd7c-1429c407e744",
   "metadata": {},
   "outputs": [],
   "source": [
    "\"\"\"Привожу адресс локаций к нижнему регистру без пунктуаций для джойна с полученной с парсинга таблицей\"\"\"\n",
    "coords_table = pd.read_excel('check.xlsx', sheet_name=0)\n",
    "coords_table['adress'] = coords_table['Адрес'].str.lower().str.translate(str.maketrans('', '', string.punctuation+'»'+'«'))\n",
    "\n",
    "\"\"\"Тоже привожу все к нижнему регистру в спарсеной таблице\"\"\"\n",
    "table['adress'] = table[''].str.lower().str.translate(str.maketrans('', '', string.punctuation+'»'+'«'))\n",
    "table.drop(columns='', inplace=True)\n",
    "\n",
    "table.rename(columns={'Возраст':'<18', '18':'18-25', '25':'25-35', '35':'35-45', '45':'45-55', '55':'>55'}, inplace=True)"
   ]
  },
  {
   "cell_type": "code",
   "execution_count": 115,
   "id": "9d76a4e0-3353-4dab-aa7c-5d7693d1c9a2",
   "metadata": {},
   "outputs": [],
   "source": [
    "full_table = coords_table.merge(table, on='adress', how='left', indicator=True)\n",
    "full_table.to_excel('Таблица_для_тепловых_карт.xlsx', index=False)"
   ]
  },
  {
   "cell_type": "code",
   "execution_count": null,
   "id": "1ae063a0-8fd2-4f22-b82b-d963c9f2a6b6",
   "metadata": {},
   "outputs": [],
   "source": [
    "print(\"Парсинг выполнен успешно.\\nНажмите любую клавишу для завершения...\")\n",
    "keyboard.read_event()  # Ожидает нажатие любой клавиши\n",
    "driver.quit()"
   ]
  },
  {
   "cell_type": "code",
   "execution_count": null,
   "id": "60156de4-49fe-4d10-916e-2fa74db838d6",
   "metadata": {},
   "outputs": [],
   "source": []
  }
 ],
 "metadata": {
  "kernelspec": {
   "display_name": "Python 3 (ipykernel)",
   "language": "python",
   "name": "python3"
  },
  "language_info": {
   "codemirror_mode": {
    "name": "ipython",
    "version": 3
   },
   "file_extension": ".py",
   "mimetype": "text/x-python",
   "name": "python",
   "nbconvert_exporter": "python",
   "pygments_lexer": "ipython3",
   "version": "3.12.3"
  }
 },
 "nbformat": 4,
 "nbformat_minor": 5
}
