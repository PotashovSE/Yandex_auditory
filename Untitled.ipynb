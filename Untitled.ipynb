{
 "cells": [
  {
   "cell_type": "code",
   "execution_count": 276,
   "id": "6cf8e224",
   "metadata": {},
   "outputs": [],
   "source": [
    "from selenium import webdriver\n",
    "from selenium.webdriver.common.keys import Keys\n",
    "from selenium.webdriver.common.by import By\n",
    "from selenium.webdriver.common.action_chains import ActionChains"
   ]
  },
  {
   "cell_type": "code",
   "execution_count": 277,
   "id": "cb355a44",
   "metadata": {},
   "outputs": [],
   "source": [
    "driver = webdriver.Chrome()\n"
   ]
  },
  {
   "cell_type": "code",
   "execution_count": 278,
   "id": "6a42d794",
   "metadata": {},
   "outputs": [],
   "source": [
    "driver.get(\"https://audience.yandex.ru\")\n",
    "button = driver.find_element(By.CLASS_NAME, 'button2__text') #Поиск кнопки ВОЙТИ\n",
    "driver.implicitly_wait(10)\n",
    "ActionChains(driver).move_to_element(button).click(button).perform() #Нажатие на кнопку ВОЙТИ"
   ]
  },
  {
   "cell_type": "code",
   "execution_count": 279,
   "id": "c6f42eed",
   "metadata": {},
   "outputs": [],
   "source": [
    "login_element = driver.find_element(By.CSS_SELECTOR, \"input[placeholder='Логин или email']\") # Находим поле ввода Логина\n",
    "\n",
    "\"\"\"Через команду clear() не удалось очистить поле, т.к. присваивается некое значение value\n",
    "    и счетчик обновить не получается. Пока использую костыль с ctrl+A и Backspace\"\"\"\n",
    "login_element.send_keys(Keys.CONTROL,'A')\n",
    "login_element.send_keys(Keys.BACK_SPACE)\n",
    "\n",
    "login_element.send_keys('potaschoffs')"
   ]
  },
  {
   "cell_type": "code",
   "execution_count": 280,
   "id": "476c9e80",
   "metadata": {},
   "outputs": [],
   "source": [
    "\"\"\"Нажимаем снова на кнопку войти, что бы перейти к вводу пароля\"\"\"\n",
    "button_2 = driver.find_element(By.CSS_SELECTOR, \"button[type='submit']\") #Поиск кнопки ВОЙТИ\n",
    "driver.implicitly_wait(10)\n",
    "ActionChains(driver).move_to_element(button_2).click(button_2).perform() #Нажатие на кнопку ВОЙТИ"
   ]
  },
  {
   "cell_type": "code",
   "execution_count": 281,
   "id": "b3c46b9d",
   "metadata": {},
   "outputs": [],
   "source": [
    "\"\"\"Вводим пароль\"\"\"\n",
    "password_element = driver.find_element(By.CSS_SELECTOR, \"input[name='passwd']\") # Находим поле ввода Логина\n",
    "\n",
    "password_element.send_keys(Keys.CONTROL,'A')\n",
    "password_element.send_keys(Keys.BACK_SPACE)\n",
    "\n",
    "password_element.send_keys('zuq301l')"
   ]
  },
  {
   "cell_type": "code",
   "execution_count": 282,
   "id": "9947534f",
   "metadata": {},
   "outputs": [],
   "source": [
    "\"\"\"Нажимаем снова на кнопку войти, что бы наконец войти\"\"\"\n",
    "button_3 = driver.find_element(By.CSS_SELECTOR, \"button[type='submit']\") #Поиск кнопки ВОЙТИ\n",
    "driver.implicitly_wait(10)\n",
    "ActionChains(driver).move_to_element(button_3).click(button_3).perform() #Нажатие на кнопку ВОЙТИ"
   ]
  },
  {
   "cell_type": "code",
   "execution_count": null,
   "id": "29744d40",
   "metadata": {},
   "outputs": [],
   "source": []
  },
  {
   "cell_type": "code",
   "execution_count": null,
   "id": "98208dfa",
   "metadata": {},
   "outputs": [],
   "source": []
  },
  {
   "cell_type": "code",
   "execution_count": 283,
   "id": "963650fa",
   "metadata": {},
   "outputs": [],
   "source": [
    "driver.close()"
   ]
  },
  {
   "cell_type": "code",
   "execution_count": 172,
   "id": "d72f1d8a",
   "metadata": {},
   "outputs": [],
   "source": [
    "driver.get(\"http://www.python.org\")"
   ]
  },
  {
   "cell_type": "code",
   "execution_count": 183,
   "id": "f15c19e2",
   "metadata": {},
   "outputs": [],
   "source": [
    "elem = driver.find_element(By.CSS_SELECTOR, \"input[id = 'id-search-field']\")\n",
    "elem.click()\n",
    "elem.clear()\n",
    "elem.send_keys(\"pycon\")"
   ]
  },
  {
   "cell_type": "code",
   "execution_count": 180,
   "id": "d8dd3408",
   "metadata": {},
   "outputs": [],
   "source": []
  },
  {
   "cell_type": "code",
   "execution_count": null,
   "id": "bab7da1d",
   "metadata": {},
   "outputs": [],
   "source": []
  }
 ],
 "metadata": {
  "kernelspec": {
   "display_name": "Python 3 (ipykernel)",
   "language": "python",
   "name": "python3"
  },
  "language_info": {
   "codemirror_mode": {
    "name": "ipython",
    "version": 3
   },
   "file_extension": ".py",
   "mimetype": "text/x-python",
   "name": "python",
   "nbconvert_exporter": "python",
   "pygments_lexer": "ipython3",
   "version": "3.9.13"
  }
 },
 "nbformat": 4,
 "nbformat_minor": 5
}
