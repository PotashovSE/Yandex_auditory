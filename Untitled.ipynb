{
 "cells": [
  {
   "cell_type": "code",
   "execution_count": 11,
   "id": "a142da1e",
   "metadata": {},
   "outputs": [],
   "source": [
    "from selenium import webdriver\n",
    "from selenium.webdriver.common.keys import Keys\n",
    "from selenium.webdriver.common.by import By\n",
    "from selenium.webdriver.common.action_chains import ActionChains"
   ]
  },
  {
   "cell_type": "code",
   "execution_count": 39,
   "id": "c65ec8d6",
   "metadata": {},
   "outputs": [],
   "source": [
    "driver = webdriver.Chrome()\n"
   ]
  },
  {
   "cell_type": "code",
   "execution_count": 184,
   "id": "57720911",
   "metadata": {},
   "outputs": [],
   "source": [
    "driver.get(\"https://audience.yandex.ru\")\n",
    "button = driver.find_element(By.CLASS_NAME, 'button2__text') #Поиск кнопки ВОЙТИ\n",
    "driver.implicitly_wait(10)\n",
    "ActionChains(driver).move_to_element(button).click(button).perform() #Нажатие на кнопку ВОЙТИ"
   ]
  },
  {
   "cell_type": "code",
   "execution_count": 240,
   "id": "3718d8ed",
   "metadata": {},
   "outputs": [],
   "source": [
    "login_element = driver.find_element(By.CSS_SELECTOR, \"input[placeholder='Логин или email']\") # Находим поле ввода Логина\n",
    "\n",
    "\"\"\"Через команду clear() не удалось очистить поле, т.к. присваивается некое значение value\n",
    "    и счетчик обновить не получается. Пока использую костыль с ctrl+A и Backspace\"\"\"\n",
    "login_element.send_keys(Keys.CONTROL,'A')\n",
    "login_element.send_keys(Keys.BACK_SPACE)\n",
    "\n",
    "login_element.send_keys('potaschoffs')"
   ]
  },
  {
   "cell_type": "code",
   "execution_count": 254,
   "id": "cdb53c71",
   "metadata": {},
   "outputs": [],
   "source": [
    "\"\"\"Нажимаем снова на кнопку войти, что бы перейти к вводу пароля\"\"\"\n",
    "button_2 = driver.find_element(By.CSS_SELECTOR, \"button[type='submit']\") #Поиск кнопки ВОЙТИ\n",
    "driver.implicitly_wait(10)\n",
    "ActionChains(driver).move_to_element(button_2).click(button_2).perform() #Нажатие на кнопку ВОЙТИ"
   ]
  },
  {
   "cell_type": "code",
   "execution_count": 263,
   "id": "cb2e1933",
   "metadata": {},
   "outputs": [],
   "source": [
    "\"\"\"Вводим пароль\"\"\"\n",
    "password_element = driver.find_element(By.CSS_SELECTOR, \"input[name='passwd']\") # Находим поле ввода Логина\n",
    "\n",
    "password_element.send_keys(Keys.CONTROL,'A')\n",
    "password_element.send_keys(Keys.BACK_SPACE)\n",
    "\n",
    "password_element.send_keys('zuq301l')"
   ]
  },
  {
   "cell_type": "code",
   "execution_count": 264,
   "id": "0d78bada",
   "metadata": {},
   "outputs": [],
   "source": [
    "\"\"\"Нажимаем снова на кнопку войти, что бы наконец войти\"\"\"\n",
    "button_3 = driver.find_element(By.CSS_SELECTOR, \"button[type='submit']\") #Поиск кнопки ВОЙТИ\n",
    "driver.implicitly_wait(10)\n",
    "ActionChains(driver).move_to_element(button_3).click(button_3).perform() #Нажатие на кнопку ВОЙТИ"
   ]
  },
  {
   "cell_type": "code",
   "execution_count": null,
   "id": "6bdd8c16",
   "metadata": {},
   "outputs": [],
   "source": []
  },
  {
   "cell_type": "code",
   "execution_count": null,
   "id": "66dae424",
   "metadata": {},
   "outputs": [],
   "source": []
  },
  {
   "cell_type": "code",
   "execution_count": 38,
   "id": "4fd85dc3",
   "metadata": {},
   "outputs": [
    {
     "ename": "WebDriverException",
     "evalue": "Message: disconnected: not connected to DevTools\n  (failed to check if window was closed: disconnected: not connected to DevTools)\n  (Session info: chrome=125.0.6422.142)\nStacktrace:\n\tGetHandleVerifier [0x00007FF634BF1F52+60322]\n\t(No symbol) [0x00007FF634B6CEC9]\n\t(No symbol) [0x00007FF634A27EBA]\n\t(No symbol) [0x00007FF634A0E03F]\n\t(No symbol) [0x00007FF634A0EBAF]\n\t(No symbol) [0x00007FF634A284E3]\n\t(No symbol) [0x00007FF6349FD08C]\n\t(No symbol) [0x00007FF634AAB697]\n\t(No symbol) [0x00007FF634AAB099]\n\t(No symbol) [0x00007FF634A9C1E0]\n\t(No symbol) [0x00007FF634A69617]\n\t(No symbol) [0x00007FF634A6A211]\n\tGetHandleVerifier [0x00007FF634F094AD+3301629]\n\tGetHandleVerifier [0x00007FF634F536D3+3605283]\n\tGetHandleVerifier [0x00007FF634F49450+3563680]\n\tGetHandleVerifier [0x00007FF634CA4326+790390]\n\t(No symbol) [0x00007FF634B7750F]\n\t(No symbol) [0x00007FF634B73404]\n\t(No symbol) [0x00007FF634B73592]\n\t(No symbol) [0x00007FF634B62F9F]\n\tBaseThreadInitThunk [0x00007FFE790C7344+20]\n\tRtlUserThreadStart [0x00007FFE7B0BCC91+33]\n",
     "output_type": "error",
     "traceback": [
      "\u001b[1;31m---------------------------------------------------------------------------\u001b[0m",
      "\u001b[1;31mWebDriverException\u001b[0m                        Traceback (most recent call last)",
      "Cell \u001b[1;32mIn[38], line 1\u001b[0m\n\u001b[1;32m----> 1\u001b[0m \u001b[43mdriver\u001b[49m\u001b[38;5;241;43m.\u001b[39;49m\u001b[43mclose\u001b[49m\u001b[43m(\u001b[49m\u001b[43m)\u001b[49m\n",
      "File \u001b[1;32m~\\AppData\\Local\\Programs\\Python\\Python39\\lib\\site-packages\\selenium\\webdriver\\remote\\webdriver.py:465\u001b[0m, in \u001b[0;36mWebDriver.close\u001b[1;34m(self)\u001b[0m\n\u001b[0;32m    457\u001b[0m \u001b[38;5;28;01mdef\u001b[39;00m \u001b[38;5;21mclose\u001b[39m(\u001b[38;5;28mself\u001b[39m) \u001b[38;5;241m-\u001b[39m\u001b[38;5;241m>\u001b[39m \u001b[38;5;28;01mNone\u001b[39;00m:\n\u001b[0;32m    458\u001b[0m \u001b[38;5;250m    \u001b[39m\u001b[38;5;124;03m\"\"\"Closes the current window.\u001b[39;00m\n\u001b[0;32m    459\u001b[0m \n\u001b[0;32m    460\u001b[0m \u001b[38;5;124;03m    :Usage:\u001b[39;00m\n\u001b[1;32m   (...)\u001b[0m\n\u001b[0;32m    463\u001b[0m \u001b[38;5;124;03m            driver.close()\u001b[39;00m\n\u001b[0;32m    464\u001b[0m \u001b[38;5;124;03m    \"\"\"\u001b[39;00m\n\u001b[1;32m--> 465\u001b[0m     \u001b[38;5;28;43mself\u001b[39;49m\u001b[38;5;241;43m.\u001b[39;49m\u001b[43mexecute\u001b[49m\u001b[43m(\u001b[49m\u001b[43mCommand\u001b[49m\u001b[38;5;241;43m.\u001b[39;49m\u001b[43mCLOSE\u001b[49m\u001b[43m)\u001b[49m\n",
      "File \u001b[1;32m~\\AppData\\Local\\Programs\\Python\\Python39\\lib\\site-packages\\selenium\\webdriver\\remote\\webdriver.py:354\u001b[0m, in \u001b[0;36mWebDriver.execute\u001b[1;34m(self, driver_command, params)\u001b[0m\n\u001b[0;32m    352\u001b[0m response \u001b[38;5;241m=\u001b[39m \u001b[38;5;28mself\u001b[39m\u001b[38;5;241m.\u001b[39mcommand_executor\u001b[38;5;241m.\u001b[39mexecute(driver_command, params)\n\u001b[0;32m    353\u001b[0m \u001b[38;5;28;01mif\u001b[39;00m response:\n\u001b[1;32m--> 354\u001b[0m     \u001b[38;5;28;43mself\u001b[39;49m\u001b[38;5;241;43m.\u001b[39;49m\u001b[43merror_handler\u001b[49m\u001b[38;5;241;43m.\u001b[39;49m\u001b[43mcheck_response\u001b[49m\u001b[43m(\u001b[49m\u001b[43mresponse\u001b[49m\u001b[43m)\u001b[49m\n\u001b[0;32m    355\u001b[0m     response[\u001b[38;5;124m\"\u001b[39m\u001b[38;5;124mvalue\u001b[39m\u001b[38;5;124m\"\u001b[39m] \u001b[38;5;241m=\u001b[39m \u001b[38;5;28mself\u001b[39m\u001b[38;5;241m.\u001b[39m_unwrap_value(response\u001b[38;5;241m.\u001b[39mget(\u001b[38;5;124m\"\u001b[39m\u001b[38;5;124mvalue\u001b[39m\u001b[38;5;124m\"\u001b[39m, \u001b[38;5;28;01mNone\u001b[39;00m))\n\u001b[0;32m    356\u001b[0m     \u001b[38;5;28;01mreturn\u001b[39;00m response\n",
      "File \u001b[1;32m~\\AppData\\Local\\Programs\\Python\\Python39\\lib\\site-packages\\selenium\\webdriver\\remote\\errorhandler.py:229\u001b[0m, in \u001b[0;36mErrorHandler.check_response\u001b[1;34m(self, response)\u001b[0m\n\u001b[0;32m    227\u001b[0m         alert_text \u001b[38;5;241m=\u001b[39m value[\u001b[38;5;124m\"\u001b[39m\u001b[38;5;124malert\u001b[39m\u001b[38;5;124m\"\u001b[39m]\u001b[38;5;241m.\u001b[39mget(\u001b[38;5;124m\"\u001b[39m\u001b[38;5;124mtext\u001b[39m\u001b[38;5;124m\"\u001b[39m)\n\u001b[0;32m    228\u001b[0m     \u001b[38;5;28;01mraise\u001b[39;00m exception_class(message, screen, stacktrace, alert_text)  \u001b[38;5;66;03m# type: ignore[call-arg]  # mypy is not smart enough here\u001b[39;00m\n\u001b[1;32m--> 229\u001b[0m \u001b[38;5;28;01mraise\u001b[39;00m exception_class(message, screen, stacktrace)\n",
      "\u001b[1;31mWebDriverException\u001b[0m: Message: disconnected: not connected to DevTools\n  (failed to check if window was closed: disconnected: not connected to DevTools)\n  (Session info: chrome=125.0.6422.142)\nStacktrace:\n\tGetHandleVerifier [0x00007FF634BF1F52+60322]\n\t(No symbol) [0x00007FF634B6CEC9]\n\t(No symbol) [0x00007FF634A27EBA]\n\t(No symbol) [0x00007FF634A0E03F]\n\t(No symbol) [0x00007FF634A0EBAF]\n\t(No symbol) [0x00007FF634A284E3]\n\t(No symbol) [0x00007FF6349FD08C]\n\t(No symbol) [0x00007FF634AAB697]\n\t(No symbol) [0x00007FF634AAB099]\n\t(No symbol) [0x00007FF634A9C1E0]\n\t(No symbol) [0x00007FF634A69617]\n\t(No symbol) [0x00007FF634A6A211]\n\tGetHandleVerifier [0x00007FF634F094AD+3301629]\n\tGetHandleVerifier [0x00007FF634F536D3+3605283]\n\tGetHandleVerifier [0x00007FF634F49450+3563680]\n\tGetHandleVerifier [0x00007FF634CA4326+790390]\n\t(No symbol) [0x00007FF634B7750F]\n\t(No symbol) [0x00007FF634B73404]\n\t(No symbol) [0x00007FF634B73592]\n\t(No symbol) [0x00007FF634B62F9F]\n\tBaseThreadInitThunk [0x00007FFE790C7344+20]\n\tRtlUserThreadStart [0x00007FFE7B0BCC91+33]\n"
     ]
    }
   ],
   "source": [
    "driver.close()"
   ]
  },
  {
   "cell_type": "code",
   "execution_count": 172,
   "id": "9d87ea39",
   "metadata": {},
   "outputs": [],
   "source": [
    "driver.get(\"http://www.python.org\")"
   ]
  },
  {
   "cell_type": "code",
   "execution_count": 183,
   "id": "aef97acf",
   "metadata": {},
   "outputs": [],
   "source": [
    "elem = driver.find_element(By.CSS_SELECTOR, \"input[id = 'id-search-field']\")\n",
    "elem.click()\n",
    "elem.clear()\n",
    "elem.send_keys(\"pycon\")"
   ]
  },
  {
   "cell_type": "code",
   "execution_count": 180,
   "id": "ff02ad1c",
   "metadata": {},
   "outputs": [],
   "source": []
  },
  {
   "cell_type": "code",
   "execution_count": null,
   "id": "e8629d53",
   "metadata": {},
   "outputs": [],
   "source": []
  }
 ],
 "metadata": {
  "kernelspec": {
   "display_name": "Python 3 (ipykernel)",
   "language": "python",
   "name": "python3"
  },
  "language_info": {
   "codemirror_mode": {
    "name": "ipython",
    "version": 3
   },
   "file_extension": ".py",
   "mimetype": "text/x-python",
   "name": "python",
   "nbconvert_exporter": "python",
   "pygments_lexer": "ipython3",
   "version": "3.9.13"
  }
 },
 "nbformat": 4,
 "nbformat_minor": 5
}
